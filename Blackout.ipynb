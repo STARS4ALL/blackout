{
 "cells": [
  {
   "cell_type": "markdown",
   "id": "a521b094-0110-4f9c-8fe8-31913fde34bb",
   "metadata": {},
   "source": [
    "# Introduction\n",
    "\n",
    "On Aprit 28th, 2025, most of Spain, parts of Portugal and a tiny fraction of souther France suffered a major electrical blackout at 12:33 Madrid local time. The recovery process was slow and was performed in stages, first starting with the north and south of the Iberian peninsula and finally reaching all the country. The recovery process in the Madrid area was done in stages. While there are some parts that went back to normality at 21:30 local time, others were not recovered after 23:30\n",
    "\n",
    "## STARS4ALL Infrastructure\n",
    "\n",
    "The blackout affected the STARS4ALL photometers located in Spain and the server infrastructure. While the Grafana panel and its associated InfluxDB database services were not recovered until April, 29th 08:00, the core infrastructure (MQTT Broker, readings collector process and IDA database) hosted in the UCM datacenter was discoverd to be up and running entirely during the blackout. However, the progressive degradation of communications infrastructure finally affected this part too. Examination of server log records have determined that **the STARS4ALL unavailability period started at 14:00 local time (last MQTT message received) and ended at 21:40 local time (first MQTT activity recorded again)**\n",
    "\n",
    "## Photometer selection\n",
    "\n",
    "At the time of the blackout, most of the TESS-W traffic came from photometeres deployed all over the world. In particular, photometers deployed in Spain were sending saturated daylight readings, thus being discared before writting to the IDA database. From 12:33 to 14:00, the only photometer's readings being stored were of those recdoring night sky brightness all over the world.\n",
    "\n",
    "To search candidates for this study, we will focus on photometers that:\n",
    "1. had location deployment avaliable to us\n",
    "2. were deployed in the Iberian peninsula (timezone=Europe/Madrid)\n",
    "3. were sending data from 2025-04-28 21:40 (local time) on\n",
    "\n",
    "The result list after database query is the following:"
   ]
  },
  {
   "cell_type": "markdown",
   "id": "6f3f0fe5-7434-4b19-9cf3-6217cac9208e",
   "metadata": {},
   "source": [
    "| name\t| place\t| town | # readings\n",
    "|-------|-------|------| -----------\n",
    "| stars1  | Coslada, barrio de La Estación | Coslada | 119\n",
    "| stars7  | Pamplona Centro | Pamplona | 60\n",
    "| stars17  | Palacio Viejo de las Corchuelas | Torrejón el Rubio, Cáceres | 45\n",
    "| stars33  | M-30 | Madrid | 96\n",
    "| stars62  | Centre d'Observació de l'Univers | Àger | 2\n",
    "| stars73  | Observatorio Astronómico de San Blas | Teruel | 61\n",
    "| stars75  | Valencia | Valencia | 58\n",
    "| stars76  | Valencia | Valencia | 59\n",
    "| stars85  | Observatorio Universidad Complutense de Madrid | Madrid | 95\n",
    "| stars88  | Aula Espazio Gela | Bilbao | 60\n",
    "| stars201  | Finca La Cocosa | Badajoz | 58\n",
    "| stars202  | Casa Rural Cijara | Pantano de Cijara | 59\n",
    "| stars272  | Asociación Daimieleña de Astronomía | Daimiel | 48\n",
    "| stars495  | Centro Internacional de Innovación Deportiva El Anillo | Guijo de Granadilla | 56\n",
    "| stars536  | Parque Natural de Izki | Korres | 60\n",
    "| stars555  | Las Praderas | Las Praderas | 60\n",
    "| stars608  | Centelles | Centelles | 60\n",
    "| stars612  | Centre d'Observació de l'Univers | Àger | 60\n",
    "| stars639  | AAS Carballada Ager | Ager | 60\n",
    "| stars660  | Arzoz | Arzoz (Navarra) | 60\n",
    "| stars714  | Institut d'Alcarràs | Alcarràs | 60\n",
    "| stars746  | Observatorio JoseX | Sierra de Segura | 60\n",
    "| stars747  | Escuela de Ingenierías Industriales de la Universidad de Extremadura | Badajoz | 50\n",
    "| stars749  | Observatorio de la Vega del Codorno | Alto de la Vega | 60\n",
    "| stars759  | Albanyà | Albanyà | 61\n",
    "| stars795  | Astrolizard Observatory | Joanetes, Girona | 60\n",
    "| stars831  | Observatori del Montsec | Sant Esteve de la Sarga | 49\n",
    "| stars835  | Ayuntamiento | Oliva de la Frontera | 20\n",
    "| stars945  | Observatorio Jardín | Aldeanueva de la Vera, Cáceres | 61\n",
    "| stars1134  | Aniartea | Jungitu | 60\n",
    "\n"
   ]
  },
  {
   "cell_type": "markdown",
   "id": "ad6cdf7b-8656-48fb-924b-c0843ed95084",
   "metadata": {},
   "source": [
    "## Obtaining photometers data\n",
    "\n",
    "Since the IDA files were being normally as usual, we will download the 2025-04 IDA monthly files for the selected photometers."
   ]
  },
  {
   "cell_type": "code",
   "execution_count": null,
   "id": "e683cc22-d9a5-408e-98cb-41e0ef8a42a9",
   "metadata": {},
   "outputs": [],
   "source": []
  }
 ],
 "metadata": {
  "kernelspec": {
   "display_name": "Python 3 (ipykernel)",
   "language": "python",
   "name": "python3"
  },
  "language_info": {
   "codemirror_mode": {
    "name": "ipython",
    "version": 3
   },
   "file_extension": ".py",
   "mimetype": "text/x-python",
   "name": "python",
   "nbconvert_exporter": "python",
   "pygments_lexer": "ipython3",
   "version": "3.12.3"
  }
 },
 "nbformat": 4,
 "nbformat_minor": 5
}
