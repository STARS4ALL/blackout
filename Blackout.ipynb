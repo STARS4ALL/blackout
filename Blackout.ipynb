{
 "cells": [
  {
   "cell_type": "markdown",
   "id": "a521b094-0110-4f9c-8fe8-31913fde34bb",
   "metadata": {},
   "source": [
    "# Introduction\n",
    "\n",
    "On Aprit 28th, 2025, most of Spain, parts of Portugal and a tiny fraction of souther France suffered a major electrical blackout at 12:33 Madrid local time. The recovery process was slow and was performed in stages, first starting with the north and south of the Iberian peninsula and finally reaching all the country. The recovery process in the Madrid area was done in stages. While there are some parts that went back to normality at 21:30 local time, others were not recovered after 23:30\n",
    "\n",
    "## STARS4ALL Infrastructure\n",
    "\n",
    "The blackout affected the STARS4ALL photometers located in Spain and the server infrastructure. While the Grafana panel and its associated InfluxDB database services were not recovered until April, 29th 08:00, the core infrastructure (MQTT Broker, readings collector process and IDA database) hosted in the UCM datacenter was discoverd to be up and running entirely during the blackout. However, the progressive degradation of communications infrastructure finally affected this part too. Examination of server log records have determined that **the STARS4ALL unavailability period started at 14:00 local time (last MQTT message received) and ended at 21:40 local time (first MQTT activity recorded again)**\n",
    "\n",
    "## Photometer selection\n",
    "\n",
    "At the time of the blackout, most of the TESS-W traffic came from photometeres deployed all over the world. In particular, photometers deployed in Spain were sending saturated daylight readings, thus being discared before writting to the IDA database. From 12:33 to 14:00, the only photometer's readings being stored were of those recdoring night sky brightness all over the world.\n",
    "\n",
    "To search candidates for this study, we will focus on photometers that:\n",
    "1. had location deployment avaliable to us\n",
    "2. were deployed in the Iberian peninsula (timezone=Europe/Madrid)\n",
    "3. were sending data from 2025-04-28 21:40 (local time) on\n",
    "4. had its message number reset back to zero.\n",
    "\n",
    "The result list after database query is the following:"
   ]
  },
  {
   "cell_type": "markdown",
   "id": "6f3f0fe5-7434-4b19-9cf3-6217cac9208e",
   "metadata": {},
   "source": [
    "| name\t| place\t| town\n",
    "|-------|-------|-------\n",
    "| stars1  | Coslada, barrio de La Estación | Coslada\n",
    "| stars7  | Pamplona Centro | Pamplona\n",
    "| stars33  | M-30 | Madrid\n",
    "| stars52  | Almería | Huércal de Almería\n",
    "| stars62  | Centre d'Observació de l'Univers | Àger\n",
    "| stars73  | Observatorio Astronómico de San Blas | Teruel\n",
    "| stars75  | Valencia | Valencia\n",
    "| stars76  | Valencia | Valencia\n",
    "| stars85  | Observatorio Universidad Complutense de Madrid | Madrid\n",
    "| stars201  | Finca La Cocosa | Badajoz\n",
    "| stars202  | Casa Rural Cijara | Pantano de Cijara\n",
    "| stars246  | Observatorio de Sierra Nevada | Granada\n",
    "| stars272  | Asociación Daimieleña de Astronomía | Daimiel\n",
    "| stars288  | Entre Encinas y Estrellas | Fregenal de la Sierra\n",
    "| stars289  | Astrocamp | Nerpio\n",
    "| stars433  | Esparragosa de Lares | Esparragosa de Lares\n",
    "| stars489  | Villaverde del Ducado | Villaverde del Ducado\n",
    "| stars495  | Centro Internacional de Innovación Deportiva El Anillo | Guijo de Granadilla\n",
    "| stars541  | Casa del Parque 'Pinos Cimeros' | Hoyos del Espino\n",
    "| stars542  | Casa del Parque del Risquillo | Guisando\n",
    "| stars543  | Casa del Parque del Valle Iruelas | El Barraco\n",
    "| stars555  | Las Praderas | Las Praderas\n",
    "| stars602  | Observatorio Astronomico Hypatia | Arenas de San Pedro\n",
    "| stars608  | Centelles | Centelles\n",
    "| stars639  | AAS Carballada Ager | Ager\n",
    "| stars641  | Casa del Doncel Sigüenza Guadalajara | Sigüenza\n",
    "| stars660  | Arzoz | Arzoz (Navarra)\n",
    "| stars714  | Institut d'Alcarràs | Alcarràs\n",
    "| stars715  | ASTROTOLVA | Tolva\n",
    "| stars716  | Cazorla | Mogón, Jaen, Spain\n",
    "| stars717  | Villaverde del Ducado | Villaverde del Ducado\n",
    "| stars749  | Observatorio de la Vega del Codorno | Alto de la Vega\n",
    "| stars753  | Parque Natural Fondo d'Elx | Algorós, Elx / Elche\n",
    "| stars773  | Ayuntamiento de Atalaya | Atalaya\n",
    "| stars778  | Ayuntamiento Valencia del Ventoso | Valencia del Ventoso\n",
    "| stars795  | Astrolizard Observatory | Joanetes, Girona\n",
    "| stars799  | Villanueva de Alcorón | Villanueva de Alcorón, Guadalajara, Spain\n",
    "| stars818  | Centro Municipal Nertobriga | Fregenal de la Sierra\n",
    "| stars830  | Valencia del Ventoso | Valencia del Ventoso\n",
    "| stars831  | Observatori del Montsec | Sant Esteve de la Sarga\n",
    "| stars834  | Universidad Popular | Higuera la Real\n",
    "| stars835  | Ayuntamiento | Oliva de la Frontera\n",
    "| stars945  | Observatorio Jardín | Aldeanueva de la Vera, Cáceres\n",
    "| stars985  | Observatorio Los Pinos | Huércal de Almería\n",
    "\n"
   ]
  },
  {
   "cell_type": "code",
   "execution_count": null,
   "id": "3682eed2-31e9-4f11-89f3-e13a51fef2a6",
   "metadata": {},
   "outputs": [],
   "source": []
  }
 ],
 "metadata": {
  "kernelspec": {
   "display_name": "Python 3 (ipykernel)",
   "language": "python",
   "name": "python3"
  },
  "language_info": {
   "codemirror_mode": {
    "name": "ipython",
    "version": 3
   },
   "file_extension": ".py",
   "mimetype": "text/x-python",
   "name": "python",
   "nbconvert_exporter": "python",
   "pygments_lexer": "ipython3",
   "version": "3.12.3"
  }
 },
 "nbformat": 4,
 "nbformat_minor": 5
}
