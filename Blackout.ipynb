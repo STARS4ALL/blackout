{
 "cells": [
  {
   "cell_type": "markdown",
   "id": "a521b094-0110-4f9c-8fe8-31913fde34bb",
   "metadata": {},
   "source": [
    "# Introduction\n",
    "\n",
    "On Aprit 28th, 2025, most of Spain, parts of Portugal and a tiny fraction of souther France suffered a major electrical blackout at 12:33 Madrid local time. The recovery process was slow and was performed in stages, first starting with the north and south of the Iberian peninsula and finally reaching all the country. The recovery process in the Madrid area was done in stages. While there are some parts that went back to normality at 21:30 local time, others were not recovered after 23:30\n",
    "\n",
    "## STARS4ALL Infrastructure\n",
    "\n",
    "The blackout affected the STARS4ALL photometers located in Spain and the server infrastructure. While the Grafana panel and its associated InfluxDB database services were not recovered until April, 29th 08:00, the core infrastructure (MQTT Broker, readings collector process and IDA database) hosted in the UCM datacenter was discoverd to be up and running entirely during the blackout. However, the progressive degradation of communications infrastructure finally affected this part too. Examination of server log records have determined that **the STARS4ALL unavailability period started at 14:00 local time (last MQTT message received) and ended at 21:40 local time (first MQTT activity recorded again)**\n",
    "\n",
    "## Photometer selection\n",
    "\n",
    "At the time of the blackout, most of the TESS-W traffic came from photometeres deployed all over the world. In particular, photometers deployed in Spain were sending saturated daylight readings, thus being discared before writting to the IDA database. From 12:33 to 14:00, the only photometer's readings being stored were of those recdoring night sky brightness all over the world.\n",
    "\n",
    "To search candidates for this study, we will focus on photometers that:\n",
    "1. had location deployment avaliable to us\n",
    "2. were deployed in the Iberian peninsula (timezone=Europe/Madrid)\n",
    "3. were sending data from 2025-04-28 21:40 (local time) on\n",
    "\n",
    "The result list after database query is the following:"
   ]
  },
  {
   "cell_type": "markdown",
   "id": "6f3f0fe5-7434-4b19-9cf3-6217cac9208e",
   "metadata": {},
   "source": [
    "| name\t| place\t| town | # readings\n",
    "|-------|-------|------| -----------\n",
    "| stars1  | Coslada, barrio de La Estación | Coslada | 119\n",
    "| stars7  | Pamplona Centro | Pamplona | 60\n",
    "| stars17  | Palacio Viejo de las Corchuelas | Torrejón el Rubio, Cáceres | 45\n",
    "| stars33  | M-30 | Madrid | 96\n",
    "| stars62  | Centre d'Observació de l'Univers | Àger | 2\n",
    "| stars73  | Observatorio Astronómico de San Blas | Teruel | 61\n",
    "| stars75  | Valencia | Valencia | 58\n",
    "| stars76  | Valencia | Valencia | 59\n",
    "| stars85  | Observatorio Universidad Complutense de Madrid | Madrid | 95\n",
    "| stars88  | Aula Espazio Gela | Bilbao | 60\n",
    "| stars201  | Finca La Cocosa | Badajoz | 58\n",
    "| stars202  | Casa Rural Cijara | Pantano de Cijara | 59\n",
    "| stars272  | Asociación Daimieleña de Astronomía | Daimiel | 48\n",
    "| stars495  | Centro Internacional de Innovación Deportiva El Anillo | Guijo de Granadilla | 56\n",
    "| stars536  | Parque Natural de Izki | Korres | 60\n",
    "| stars555  | Las Praderas | Las Praderas | 60\n",
    "| stars608  | Centelles | Centelles | 60\n",
    "| stars612  | Centre d'Observació de l'Univers | Àger | 60\n",
    "| stars639  | AAS Carballada Ager | Ager | 60\n",
    "| stars660  | Arzoz | Arzoz (Navarra) | 60\n",
    "| stars714  | Institut d'Alcarràs | Alcarràs | 60\n",
    "| stars746  | Observatorio JoseX | Sierra de Segura | 60\n",
    "| stars747  | Escuela de Ingenierías Industriales de la Universidad de Extremadura | Badajoz | 50\n",
    "| stars749  | Observatorio de la Vega del Codorno | Alto de la Vega | 60\n",
    "| stars759  | Albanyà | Albanyà | 61\n",
    "| stars795  | Astrolizard Observatory | Joanetes, Girona | 60\n",
    "| stars831  | Observatori del Montsec | Sant Esteve de la Sarga | 49\n",
    "| stars835  | Ayuntamiento | Oliva de la Frontera | 20\n",
    "| stars945  | Observatorio Jardín | Aldeanueva de la Vera, Cáceres | 61\n",
    "| stars1134  | Aniartea | Jungitu | 60\n",
    "\n"
   ]
  },
  {
   "cell_type": "markdown",
   "id": "ad6cdf7b-8656-48fb-924b-c0843ed95084",
   "metadata": {},
   "source": [
    "## Obtaining photometers data\n",
    "\n",
    "Since the IDA files were being normally as usual, we will download the 2025-04 IDA monthly files for the selected photometers."
   ]
  },
  {
   "cell_type": "markdown",
   "id": "60ca49ab-48a2-4c73-be17-d19d2ac5a9bb",
   "metadata": {},
   "source": [
    "# stars1 analysis\n",
    "This photometer, which belongs to Cristobal García, designer and manufacturer of [TESS-W photometers](https://tessskysensor.blogspot.com/) has been reliably sending data since 2019. It is located in Coslada, a town in the Madrid metropolitan area. As such, it can be a witness of the staged recovery. "
   ]
  },
  {
   "cell_type": "markdown",
   "id": "d00cb49f-3a27-44a1-a6f8-20fc71358570",
   "metadata": {},
   "source": [
    "We begin by importing all the Python libraries we are going to use"
   ]
  },
  {
   "cell_type": "code",
   "execution_count": 10,
   "id": "88841ee1-5af5-4464-91bc-9a05395d323f",
   "metadata": {},
   "outputs": [],
   "source": [
    "import itertools\n",
    "from pathlib import Path\n",
    "from typing import Optional, Sequence, Iterable, Tuple\n",
    "\n",
    "import numpy as np\n",
    "import matplotlib.pyplot as plt\n",
    "from astropy.table import Table, Column\n",
    "from astropy.time import Time\n",
    "import astropy.units as u\n",
    "import astropy.io.ascii\n",
    "from astropy.constants import astropyconst20 as const\n",
    "\n",
    "from licatools.utils.mpl import (\n",
    "    plot_single_table_column, \n",
    "    plot_single_table_columns, \n",
    "    plot_single_tables_columns,\n",
    ")"
   ]
  },
  {
   "cell_type": "markdown",
   "id": "2f86a99f-a8c5-465a-b50e-cf38a527f5e1",
   "metadata": {},
   "source": [
    "Then we read the ECSV file as an Astropy table"
   ]
  },
  {
   "cell_type": "code",
   "execution_count": 7,
   "id": "714e64ac-9e77-4d87-b753-6ed18a3eba33",
   "metadata": {},
   "outputs": [],
   "source": [
    "STARS1_MONTHLY_FILE = Path(\"ecsv/stars1/stars1_2025-04.ecsv\").resolve()\n",
    "table = astropy.io.ascii.read(STARS1_MONTHLY_FILE, format=\"ecsv\")"
   ]
  },
  {
   "cell_type": "code",
   "execution_count": 8,
   "id": "8f8b1daf-8187-41ae-bcdc-3ec5e190899a",
   "metadata": {},
   "outputs": [
    {
     "data": {
      "text/html": [
       "<div><i>QTable length=39434</i>\n",
       "<table id=\"table125395323493248\" class=\"table-striped table-bordered table-condensed\">\n",
       "<thead><tr><th>time</th><th>Enclosure Temperature</th><th>Sky Temperature</th><th>Frequency</th><th>MSAS</th><th>ZP</th><th>Sequence Number</th><th>Sun Alt</th><th>Moon Alt</th><th>Moon Illumination</th></tr></thead>\n",
       "<thead><tr><th></th><th>deg_C</th><th>deg_C</th><th>Hz</th><th>mag / arcsec2</th><th></th><th></th><th>deg</th><th>deg</th><th></th></tr></thead>\n",
       "<thead><tr><th>Time</th><th>float64</th><th>float64</th><th>float64</th><th>float64</th><th>float64</th><th>int64</th><th>float64</th><th>float64</th><th>float64</th></tr></thead>\n",
       "<tr><td>2025-04-01T00:00:59.000</td><td>13.94</td><td>-3.96</td><td>6.88</td><td>18.01</td><td>20.1</td><td>379483</td><td>-44.85</td><td>-20.0</td><td>0.096</td></tr>\n",
       "<tr><td>2025-04-01T00:01:29.000</td><td>13.92</td><td>-4.06</td><td>6.94</td><td>18.0</td><td>20.1</td><td>379484</td><td>-44.86</td><td>-20.0</td><td>0.096</td></tr>\n",
       "<tr><td>2025-04-01T00:02:00.000</td><td>13.89</td><td>-4.08</td><td>6.99</td><td>17.99</td><td>20.1</td><td>379485</td><td>-44.87</td><td>-21.0</td><td>0.096</td></tr>\n",
       "<tr><td>2025-04-01T00:02:30.000</td><td>13.86</td><td>-4.13</td><td>6.97</td><td>17.99</td><td>20.1</td><td>379486</td><td>-44.88</td><td>-21.0</td><td>0.096</td></tr>\n",
       "<tr><td>2025-04-01T00:03:02.000</td><td>13.82</td><td>-4.17</td><td>6.92</td><td>18.0</td><td>20.1</td><td>379487</td><td>-44.89</td><td>-21.0</td><td>0.096</td></tr>\n",
       "<tr><td>2025-04-01T00:03:32.000</td><td>13.79</td><td>-4.16</td><td>7.0</td><td>17.99</td><td>20.1</td><td>379488</td><td>-44.9</td><td>-21.0</td><td>0.096</td></tr>\n",
       "<tr><td>2025-04-01T00:04:03.000</td><td>13.78</td><td>-4.05</td><td>6.89</td><td>18.01</td><td>20.1</td><td>379489</td><td>-44.91</td><td>-21.0</td><td>0.096</td></tr>\n",
       "<tr><td>2025-04-01T00:04:33.000</td><td>13.77</td><td>-4.16</td><td>6.93</td><td>18.0</td><td>20.1</td><td>379490</td><td>-44.91</td><td>-21.0</td><td>0.097</td></tr>\n",
       "<tr><td>2025-04-01T00:05:04.000</td><td>13.75</td><td>-4.21</td><td>6.88</td><td>18.01</td><td>20.1</td><td>379491</td><td>-44.92</td><td>-21.0</td><td>0.097</td></tr>\n",
       "<tr><td>...</td><td>...</td><td>...</td><td>...</td><td>...</td><td>...</td><td>...</td><td>...</td><td>...</td><td>...</td></tr>\n",
       "<tr><td>2025-04-30T23:55:31.000</td><td>12.84</td><td>9.86</td><td>81.0</td><td>15.33</td><td>20.1</td><td>5810</td><td>-34.37</td><td>-8.0</td><td>0.146</td></tr>\n",
       "<tr><td>2025-04-30T23:56:01.000</td><td>12.77</td><td>10.12</td><td>81.0</td><td>15.33</td><td>20.1</td><td>5811</td><td>-34.37</td><td>-8.0</td><td>0.146</td></tr>\n",
       "<tr><td>2025-04-30T23:56:31.000</td><td>12.8</td><td>10.34</td><td>81.02</td><td>15.33</td><td>20.1</td><td>5812</td><td>-34.38</td><td>-8.0</td><td>0.146</td></tr>\n",
       "<tr><td>2025-04-30T23:57:01.000</td><td>12.81</td><td>10.53</td><td>81.0</td><td>15.33</td><td>20.1</td><td>5813</td><td>-34.39</td><td>-8.0</td><td>0.146</td></tr>\n",
       "<tr><td>2025-04-30T23:57:32.000</td><td>12.79</td><td>9.93</td><td>81.0</td><td>15.33</td><td>20.1</td><td>5814</td><td>-34.4</td><td>-8.0</td><td>0.146</td></tr>\n",
       "<tr><td>2025-04-30T23:58:02.000</td><td>12.73</td><td>9.84</td><td>81.2</td><td>15.33</td><td>20.1</td><td>5815</td><td>-34.4</td><td>-8.0</td><td>0.146</td></tr>\n",
       "<tr><td>2025-04-30T23:58:32.000</td><td>12.71</td><td>10.26</td><td>81.64</td><td>15.32</td><td>20.1</td><td>5816</td><td>-34.41</td><td>-8.0</td><td>0.147</td></tr>\n",
       "<tr><td>2025-04-30T23:59:02.000</td><td>12.77</td><td>10.58</td><td>81.0</td><td>15.33</td><td>20.1</td><td>5817</td><td>-34.41</td><td>-8.0</td><td>0.147</td></tr>\n",
       "<tr><td>2025-04-30T23:59:32.000</td><td>12.82</td><td>10.73</td><td>81.0</td><td>15.33</td><td>20.1</td><td>5818</td><td>-34.42</td><td>-8.0</td><td>0.147</td></tr>\n",
       "</table></div>"
      ],
      "text/plain": [
       "<QTable length=39434>\n",
       "          time          Enclosure Temperature ... Moon Alt Moon Illumination\n",
       "                                deg_C         ...   deg                     \n",
       "          Time                 float64        ... float64       float64     \n",
       "----------------------- --------------------- ... -------- -----------------\n",
       "2025-04-01T00:00:59.000                 13.94 ...    -20.0             0.096\n",
       "2025-04-01T00:01:29.000                 13.92 ...    -20.0             0.096\n",
       "2025-04-01T00:02:00.000                 13.89 ...    -21.0             0.096\n",
       "2025-04-01T00:02:30.000                 13.86 ...    -21.0             0.096\n",
       "2025-04-01T00:03:02.000                 13.82 ...    -21.0             0.096\n",
       "2025-04-01T00:03:32.000                 13.79 ...    -21.0             0.096\n",
       "2025-04-01T00:04:03.000                 13.78 ...    -21.0             0.096\n",
       "2025-04-01T00:04:33.000                 13.77 ...    -21.0             0.097\n",
       "2025-04-01T00:05:04.000                 13.75 ...    -21.0             0.097\n",
       "                    ...                   ... ...      ...               ...\n",
       "2025-04-30T23:55:31.000                 12.84 ...     -8.0             0.146\n",
       "2025-04-30T23:56:01.000                 12.77 ...     -8.0             0.146\n",
       "2025-04-30T23:56:31.000                  12.8 ...     -8.0             0.146\n",
       "2025-04-30T23:57:01.000                 12.81 ...     -8.0             0.146\n",
       "2025-04-30T23:57:32.000                 12.79 ...     -8.0             0.146\n",
       "2025-04-30T23:58:02.000                 12.73 ...     -8.0             0.146\n",
       "2025-04-30T23:58:32.000                 12.71 ...     -8.0             0.147\n",
       "2025-04-30T23:59:02.000                 12.77 ...     -8.0             0.147\n",
       "2025-04-30T23:59:32.000                 12.82 ...     -8.0             0.147"
      ]
     },
     "execution_count": 8,
     "metadata": {},
     "output_type": "execute_result"
    }
   ],
   "source": [
    "table"
   ]
  },
  {
   "cell_type": "markdown",
   "id": "678f0d40-ae9e-4df1-a7ca-815a9e65dcec",
   "metadata": {},
   "source": [
    "The first graphics will show the photometer readings on April, 28th from 21:30-to April, 29th 02:00, local time"
   ]
  },
  {
   "cell_type": "code",
   "execution_count": 44,
   "id": "9b067a56-3c0b-4869-865f-b55f3bf730ca",
   "metadata": {},
   "outputs": [
    {
     "name": "stdout",
     "output_type": "stream",
     "text": [
      "Selected 119 entries\n"
     ]
    }
   ],
   "source": [
    "low_t =  Time(\"2025-04-28T19:30:00\", format='isot', scale='utc')\n",
    "high_t = Time(\"2025-04-29T00:00:00\", format='isot', scale='utc')\n",
    "mask = np.logical_and(low_t < table[\"time\"], table[\"time\"] < high_t)\n",
    "table = table[mask]\n",
    "print(f\"Selected {len(table)} entries\")"
   ]
  },
  {
   "cell_type": "code",
   "execution_count": 50,
   "id": "ebd884ea-38d8-4fb7-990d-ca1ae26380fe",
   "metadata": {},
   "outputs": [
    {
     "ename": "AttributeError",
     "evalue": "'Time' object has no attribute 'name'",
     "output_type": "error",
     "traceback": [
      "\u001b[31m---------------------------------------------------------------------------\u001b[39m",
      "\u001b[31mAttributeError\u001b[39m                            Traceback (most recent call last)",
      "\u001b[36mCell\u001b[39m\u001b[36m \u001b[39m\u001b[32mIn[50]\u001b[39m\u001b[32m, line 1\u001b[39m\n\u001b[32m----> \u001b[39m\u001b[32m1\u001b[39m \u001b[43mtable\u001b[49m\u001b[43m.\u001b[49m\u001b[43mcolumns\u001b[49m\u001b[43m[\u001b[49m\u001b[32;43m0\u001b[39;49m\u001b[43m]\u001b[49m\u001b[43m.\u001b[49m\u001b[43mname\u001b[49m\n",
      "\u001b[36mFile \u001b[39m\u001b[32m~/repos/own/stars4all/blackout/.venv/lib/python3.12/site-packages/astropy/time/core.py:1793\u001b[39m, in \u001b[36mTimeBase.__getattr__\u001b[39m\u001b[34m(self, attr)\u001b[39m\n\u001b[32m   1786\u001b[39m         \u001b[38;5;28;01mraise\u001b[39;00m ScaleValueError(\n\u001b[32m   1787\u001b[39m             \u001b[33mf\u001b[39m\u001b[33m\"\u001b[39m\u001b[33mCannot convert \u001b[39m\u001b[38;5;132;01m{\u001b[39;00m\u001b[38;5;28mself\u001b[39m.\u001b[34m__class__\u001b[39m.\u001b[34m__name__\u001b[39m\u001b[38;5;132;01m}\u001b[39;00m\u001b[33m with scale \u001b[39m\u001b[33m\"\u001b[39m\n\u001b[32m   1788\u001b[39m             \u001b[33mf\u001b[39m\u001b[33m\"\u001b[39m\u001b[33m'\u001b[39m\u001b[38;5;132;01m{\u001b[39;00m\u001b[38;5;28mself\u001b[39m.scale\u001b[38;5;132;01m}\u001b[39;00m\u001b[33m'\u001b[39m\u001b[33m to scale \u001b[39m\u001b[33m'\u001b[39m\u001b[38;5;132;01m{\u001b[39;00mattr\u001b[38;5;132;01m}\u001b[39;00m\u001b[33m'\u001b[39m\u001b[33m\"\u001b[39m\n\u001b[32m   1789\u001b[39m         )\n\u001b[32m   1791\u001b[39m \u001b[38;5;28;01melse\u001b[39;00m:\n\u001b[32m   1792\u001b[39m     \u001b[38;5;66;03m# Should raise AttributeError\u001b[39;00m\n\u001b[32m-> \u001b[39m\u001b[32m1793\u001b[39m     \u001b[38;5;28;01mreturn\u001b[39;00m \u001b[38;5;28;43mself\u001b[39;49m\u001b[43m.\u001b[49m\u001b[34;43m__getattribute__\u001b[39;49m\u001b[43m(\u001b[49m\u001b[43mattr\u001b[49m\u001b[43m)\u001b[49m\n",
      "\u001b[31mAttributeError\u001b[39m: 'Time' object has no attribute 'name'"
     ]
    }
   ],
   "source": [
    "table.columns[0].name"
   ]
  },
  {
   "cell_type": "code",
   "execution_count": 48,
   "id": "ad103c2a-95ea-45c9-97c9-a9bcf9e631d2",
   "metadata": {},
   "outputs": [
    {
     "ename": "AttributeError",
     "evalue": "'Time' object has no attribute 'name'",
     "output_type": "error",
     "traceback": [
      "\u001b[31m---------------------------------------------------------------------------\u001b[39m",
      "\u001b[31mAttributeError\u001b[39m                            Traceback (most recent call last)",
      "\u001b[36mCell\u001b[39m\u001b[36m \u001b[39m\u001b[32mIn[48]\u001b[39m\u001b[32m, line 1\u001b[39m\n\u001b[32m----> \u001b[39m\u001b[32m1\u001b[39m \u001b[43mplot_single_table_columns\u001b[49m\u001b[43m(\u001b[49m\n\u001b[32m      2\u001b[39m \u001b[43m    \u001b[49m\u001b[43mtable\u001b[49m\u001b[43m \u001b[49m\u001b[43m=\u001b[49m\u001b[43m \u001b[49m\u001b[43mtable\u001b[49m\u001b[43m,\u001b[49m\n\u001b[32m      3\u001b[39m \u001b[43m    \u001b[49m\u001b[43mxcolname\u001b[49m\u001b[43m \u001b[49m\u001b[43m=\u001b[49m\u001b[43m \u001b[49m\u001b[33;43m\"\u001b[39;49m\u001b[33;43mtime\u001b[39;49m\u001b[33;43m\"\u001b[39;49m\u001b[43m,\u001b[49m\n\u001b[32m      4\u001b[39m \u001b[43m    \u001b[49m\u001b[43mycolnames\u001b[49m\u001b[43m \u001b[49m\u001b[43m=\u001b[49m\u001b[43m \u001b[49m\u001b[43m[\u001b[49m\u001b[33;43m\"\u001b[39;49m\u001b[33;43mMSAS\u001b[39;49m\u001b[33;43m\"\u001b[39;49m\u001b[43m,\u001b[49m\u001b[43m \u001b[49m\u001b[33;43m\"\u001b[39;49m\u001b[33;43mSequence Number\u001b[39;49m\u001b[33;43m\"\u001b[39;49m\u001b[43m]\u001b[49m\u001b[43m,\u001b[49m\n\u001b[32m      5\u001b[39m \u001b[43m    \u001b[49m\u001b[43mtitle\u001b[49m\u001b[43m \u001b[49m\u001b[43m=\u001b[49m\u001b[43m \u001b[49m\u001b[33;43m\"\u001b[39;49m\u001b[33;43mstars1 readings\u001b[39;49m\u001b[33;43m\"\u001b[39;49m\u001b[43m,\u001b[49m\n\u001b[32m      6\u001b[39m \u001b[43m    \u001b[49m\u001b[43mlegends\u001b[49m\u001b[43m \u001b[49m\u001b[43m=\u001b[49m\u001b[43m \u001b[49m\u001b[43m[\u001b[49m\u001b[33;43m\"\u001b[39;49m\u001b[33;43mmag\u001b[39;49m\u001b[33;43m\"\u001b[39;49m\u001b[43m,\u001b[49m\u001b[43m \u001b[49m\u001b[33;43m\"\u001b[39;49m\u001b[33;43m#\u001b[39;49m\u001b[33;43m\"\u001b[39;49m\u001b[43m]\u001b[49m\u001b[43m,\u001b[49m\n\u001b[32m      7\u001b[39m \u001b[43m)\u001b[49m\n",
      "\u001b[36mFile \u001b[39m\u001b[32m~/repos/own/stars4all/blackout/.venv/lib/python3.12/site-packages/licatools/utils/mpl/helpers.py:128\u001b[39m, in \u001b[36mplot_single_table_columns\u001b[39m\u001b[34m(table, xcolname, ycolnames, title, xlabel, ylabel, markers, legends, linestyles, changes)\u001b[39m\n\u001b[32m    119\u001b[39m builder = SingleTableColumnsBuilder(\n\u001b[32m    120\u001b[39m     builder=tb_builder,\n\u001b[32m    121\u001b[39m     title=title,\n\u001b[32m   (...)\u001b[39m\u001b[32m    124\u001b[39m     linestyles=linestyles,\n\u001b[32m    125\u001b[39m )\n\u001b[32m    126\u001b[39m director = Director(builder)\n\u001b[32m    127\u001b[39m xcn, ycns_grp, tables, titles, xlabels, ylabels, legends_grp, markers_grp, linestyles_grp = (\n\u001b[32m--> \u001b[39m\u001b[32m128\u001b[39m     \u001b[43mdirector\u001b[49m\u001b[43m.\u001b[49m\u001b[43mbuild_elements\u001b[49m\u001b[43m(\u001b[49m\u001b[43m)\u001b[49m\n\u001b[32m    129\u001b[39m )\n\u001b[32m    130\u001b[39m \u001b[38;5;28;01mwith\u001b[39;00m visualization.quantity_support():\n\u001b[32m    131\u001b[39m     plotter = BasicPlotter(\n\u001b[32m    132\u001b[39m         xcn=xcn,\n\u001b[32m    133\u001b[39m         ycns_grp=ycns_grp,\n\u001b[32m   (...)\u001b[39m\u001b[32m    141\u001b[39m         changes=changes,\n\u001b[32m    142\u001b[39m     )\n",
      "\u001b[36mFile \u001b[39m\u001b[32m~/repos/own/stars4all/blackout/.venv/lib/python3.12/site-packages/licatools/utils/mpl/plotter/element.py:69\u001b[39m, in \u001b[36mDirector.build_elements\u001b[39m\u001b[34m(self)\u001b[39m\n\u001b[32m     67\u001b[39m \u001b[38;5;28mself\u001b[39m._builder.build_tables()\n\u001b[32m     68\u001b[39m \u001b[38;5;28mself\u001b[39m._builder.build_titles()\n\u001b[32m---> \u001b[39m\u001b[32m69\u001b[39m \u001b[38;5;28;43mself\u001b[39;49m\u001b[43m.\u001b[49m\u001b[43m_builder\u001b[49m\u001b[43m.\u001b[49m\u001b[43mbuild_xlabels\u001b[49m\u001b[43m(\u001b[49m\u001b[43m)\u001b[49m\n\u001b[32m     70\u001b[39m \u001b[38;5;28mself\u001b[39m._builder.build_ylabels()\n\u001b[32m     71\u001b[39m \u001b[38;5;28mself\u001b[39m._builder.build_legends_grp()\n",
      "\u001b[36mFile \u001b[39m\u001b[32m~/repos/own/stars4all/blackout/.venv/lib/python3.12/site-packages/licatools/utils/mpl/plotter/element.py:388\u001b[39m, in \u001b[36mSingleTableColumnsBuilder.build_xlabels\u001b[39m\u001b[34m(self)\u001b[39m\n\u001b[32m    386\u001b[39m \u001b[38;5;28;01mdef\u001b[39;00m\u001b[38;5;250m \u001b[39m\u001b[34mbuild_xlabels\u001b[39m(\u001b[38;5;28mself\u001b[39m) -> Labels:\n\u001b[32m    387\u001b[39m     \u001b[38;5;28mself\u001b[39m._check_xlabel()\n\u001b[32m--> \u001b[39m\u001b[32m388\u001b[39m     \u001b[38;5;28;01mreturn\u001b[39;00m \u001b[38;5;28;43mself\u001b[39;49m\u001b[43m.\u001b[49m\u001b[43m_default_xlabel\u001b[49m\u001b[43m(\u001b[49m\u001b[38;5;28;43mself\u001b[39;49m\u001b[43m.\u001b[49m\u001b[43m_table\u001b[49m\u001b[43m)\u001b[49m\n",
      "\u001b[36mFile \u001b[39m\u001b[32m~/repos/own/stars4all/blackout/.venv/lib/python3.12/site-packages/licatools/utils/mpl/plotter/element.py:147\u001b[39m, in \u001b[36mElementsBase._default_xlabel\u001b[39m\u001b[34m(self, table)\u001b[39m\n\u001b[32m    145\u001b[39m     result = \u001b[38;5;28mself\u001b[39m._xlabel \u001b[38;5;28;01mif\u001b[39;00m \u001b[38;5;28misinstance\u001b[39m(\u001b[38;5;28mself\u001b[39m._xlabel, \u001b[38;5;28mstr\u001b[39m) \u001b[38;5;28;01melse\u001b[39;00m \u001b[33m\"\u001b[39m\u001b[33m \u001b[39m\u001b[33m\"\u001b[39m.join(\u001b[38;5;28mself\u001b[39m._xlabel)\n\u001b[32m    146\u001b[39m \u001b[38;5;28;01melse\u001b[39;00m:\n\u001b[32m--> \u001b[39m\u001b[32m147\u001b[39m     result = \u001b[43mtable\u001b[49m\u001b[43m.\u001b[49m\u001b[43mcolumns\u001b[49m\u001b[43m[\u001b[49m\u001b[38;5;28;43mself\u001b[39;49m\u001b[43m.\u001b[49m\u001b[43m_xcn\u001b[49m\u001b[43m]\u001b[49m\u001b[43m.\u001b[49m\u001b[43mname\u001b[49m\n\u001b[32m    148\u001b[39m part = [result] * \u001b[38;5;28mself\u001b[39m._ntab\n\u001b[32m    149\u001b[39m \u001b[38;5;28mself\u001b[39m._elements.append(part)\n",
      "\u001b[36mFile \u001b[39m\u001b[32m~/repos/own/stars4all/blackout/.venv/lib/python3.12/site-packages/astropy/time/core.py:1793\u001b[39m, in \u001b[36mTimeBase.__getattr__\u001b[39m\u001b[34m(self, attr)\u001b[39m\n\u001b[32m   1786\u001b[39m         \u001b[38;5;28;01mraise\u001b[39;00m ScaleValueError(\n\u001b[32m   1787\u001b[39m             \u001b[33mf\u001b[39m\u001b[33m\"\u001b[39m\u001b[33mCannot convert \u001b[39m\u001b[38;5;132;01m{\u001b[39;00m\u001b[38;5;28mself\u001b[39m.\u001b[34m__class__\u001b[39m.\u001b[34m__name__\u001b[39m\u001b[38;5;132;01m}\u001b[39;00m\u001b[33m with scale \u001b[39m\u001b[33m\"\u001b[39m\n\u001b[32m   1788\u001b[39m             \u001b[33mf\u001b[39m\u001b[33m\"\u001b[39m\u001b[33m'\u001b[39m\u001b[38;5;132;01m{\u001b[39;00m\u001b[38;5;28mself\u001b[39m.scale\u001b[38;5;132;01m}\u001b[39;00m\u001b[33m'\u001b[39m\u001b[33m to scale \u001b[39m\u001b[33m'\u001b[39m\u001b[38;5;132;01m{\u001b[39;00mattr\u001b[38;5;132;01m}\u001b[39;00m\u001b[33m'\u001b[39m\u001b[33m\"\u001b[39m\n\u001b[32m   1789\u001b[39m         )\n\u001b[32m   1791\u001b[39m \u001b[38;5;28;01melse\u001b[39;00m:\n\u001b[32m   1792\u001b[39m     \u001b[38;5;66;03m# Should raise AttributeError\u001b[39;00m\n\u001b[32m-> \u001b[39m\u001b[32m1793\u001b[39m     \u001b[38;5;28;01mreturn\u001b[39;00m \u001b[38;5;28;43mself\u001b[39;49m\u001b[43m.\u001b[49m\u001b[34;43m__getattribute__\u001b[39;49m\u001b[43m(\u001b[49m\u001b[43mattr\u001b[49m\u001b[43m)\u001b[49m\n",
      "\u001b[31mAttributeError\u001b[39m: 'Time' object has no attribute 'name'"
     ]
    }
   ],
   "source": [
    "plot_single_table_columns(\n",
    "    table = table,\n",
    "    xcolname = \"time\",\n",
    "    ycolnames = [\"MSAS\", \"Sequence Number\"],\n",
    "    title = \"stars1 readings\",\n",
    "    legends = [\"mag\", \"#\"],\n",
    ")"
   ]
  },
  {
   "cell_type": "code",
   "execution_count": null,
   "id": "357ac630-0a9d-4c7a-b685-edb999ed6c9f",
   "metadata": {},
   "outputs": [],
   "source": []
  }
 ],
 "metadata": {
  "kernelspec": {
   "display_name": "Python 3 (ipykernel)",
   "language": "python",
   "name": "python3"
  },
  "language_info": {
   "codemirror_mode": {
    "name": "ipython",
    "version": 3
   },
   "file_extension": ".py",
   "mimetype": "text/x-python",
   "name": "python",
   "nbconvert_exporter": "python",
   "pygments_lexer": "ipython3",
   "version": "3.12.3"
  }
 },
 "nbformat": 4,
 "nbformat_minor": 5
}
